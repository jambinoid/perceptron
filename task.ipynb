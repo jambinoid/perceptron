{
  "nbformat": 4,
  "nbformat_minor": 0,
  "metadata": {
    "colab": {
      "name": "perceptron_task.ipynb",
      "provenance": [],
      "collapsed_sections": [],
      "include_colab_link": true
    },
    "kernelspec": {
      "name": "python3",
      "display_name": "Python 3"
    }
  },
  "cells": [
    {
      "cell_type": "markdown",
      "metadata": {
        "id": "view-in-github",
        "colab_type": "text"
      },
      "source": [
        "<a href=\"https://colab.research.google.com/github/jambinoid/perceptron/blob/master/task.ipynb\" target=\"_parent\"><img src=\"https://colab.research.google.com/assets/colab-badge.svg\" alt=\"Open In Colab\"/></a>"
      ]
    },
    {
      "cell_type": "markdown",
      "metadata": {
        "id": "958IhLP1Gcok",
        "colab_type": "text"
      },
      "source": [
        "#Самостоятельное задание 1.\n",
        "##Написать аналогичный алгоритм для решения операции логического И (&)."
      ]
    },
    {
      "cell_type": "markdown",
      "metadata": {
        "id": "4eSQkKNvzp6J",
        "colab_type": "text"
      },
      "source": [
        "Импортируем библиотеку numpy"
      ]
    },
    {
      "cell_type": "code",
      "metadata": {
        "id": "l3ZdWofJh9Yu",
        "colab_type": "code",
        "colab": {}
      },
      "source": [
        "import numpy as np"
      ],
      "execution_count": null,
      "outputs": []
    },
    {
      "cell_type": "markdown",
      "metadata": {
        "id": "mXCzcemAog6-",
        "colab_type": "text"
      },
      "source": [
        "Реализация простейшего перцептрона с помощью ООП"
      ]
    },
    {
      "cell_type": "code",
      "metadata": {
        "id": "X67I-QBUzsxx",
        "colab_type": "code",
        "colab": {}
      },
      "source": [
        "class SimplePerceptron():\n",
        "    # Пороговая функция активации\n",
        "    activate = lambda self,sum: 0 if sum < 0 else 1\n",
        "\n",
        "    def __init__(self, n_entries):\n",
        "        # Задаем начальные веса\n",
        "        self.weights = np.random.rand(n_entries + 1)\n",
        "\n",
        "    # Функция обучения модели\n",
        "    def fit(self, data, expected_values, learning_rate):\n",
        "        # Добавляем смещение\n",
        "        data = np.append(data, np.ones((data.shape[0], 1), dtype=data.dtype), axis=1)\n",
        "        # Обучаем модель, изменяя веса\n",
        "        for x, expected in zip(data, expected_values):\n",
        "            error = expected - self.activate(np.dot(x, self.weights))\n",
        "            # сработает с массивами numpy, но не сработает со списками\n",
        "            self.weights += learning_rate * error * x\n",
        "        print(self.weights)\n",
        "\n",
        "    # Функция предсказания\n",
        "    def predict(self, data):\n",
        "        # Добавляем смещение\n",
        "        data = np.append(data, np.ones((data.shape[0], 1), dtype=data.dtype), axis=1)\n",
        "        # Возвращаем предсказанные обученной моделью значения\n",
        "        return np.array([self.activate(np.dot(x, self.weights)) for x in data])"
      ],
      "execution_count": null,
      "outputs": []
    },
    {
      "cell_type": "markdown",
      "metadata": {
        "id": "U5ayNmtlfX7-",
        "colab_type": "text"
      },
      "source": [
        "Подготавливаем выборку"
      ]
    },
    {
      "cell_type": "code",
      "metadata": {
        "id": "UvH4qJAHz8io",
        "colab_type": "code",
        "colab": {
          "base_uri": "https://localhost:8080/",
          "height": 85
        },
        "outputId": "134744e7-1449-4f79-f777-425fc4527bc7"
      },
      "source": [
        "X = np.array([[0, 0],\n",
        "              [1, 0],\n",
        "              [0, 1],\n",
        "              [1, 1]])\n",
        "print(X)"
      ],
      "execution_count": null,
      "outputs": [
        {
          "output_type": "stream",
          "text": [
            "[[0 0]\n",
            " [1 0]\n",
            " [0 1]\n",
            " [1 1]]\n"
          ],
          "name": "stdout"
        }
      ]
    },
    {
      "cell_type": "code",
      "metadata": {
        "id": "Xhyzf2zrgU0h",
        "colab_type": "code",
        "colab": {
          "base_uri": "https://localhost:8080/",
          "height": 34
        },
        "outputId": "5f117750-f3ab-43b1-99b4-a6904367f165"
      },
      "source": [
        "Y = np.array([0, 0, 0, 1])\n",
        "print(Y)"
      ],
      "execution_count": null,
      "outputs": [
        {
          "output_type": "stream",
          "text": [
            "[0 0 0 1]\n"
          ],
          "name": "stdout"
        }
      ]
    },
    {
      "cell_type": "markdown",
      "metadata": {
        "id": "t07_VVwUhjpf",
        "colab_type": "text"
      },
      "source": [
        "Создаем и обучаем модель"
      ]
    },
    {
      "cell_type": "code",
      "metadata": {
        "id": "Etf4ztA5fsp3",
        "colab_type": "code",
        "colab": {
          "base_uri": "https://localhost:8080/",
          "height": 34
        },
        "outputId": "9d6ca4e0-7af4-44ae-bbb0-ea968afb84f8"
      },
      "source": [
        "N = 200\n",
        "lr = 2e-1\n",
        "indices = [np.random.randint(X.shape[0]) for i in range(N)]\n",
        "training_data = np.take(X, indices, axis=0)\n",
        "training_values = np.take(Y, indices)\n",
        "\n",
        "model = SimplePerceptron(n_entries=X.shape[1])\n",
        "model.fit(training_data, training_values, lr)"
      ],
      "execution_count": null,
      "outputs": [
        {
          "output_type": "stream",
          "text": [
            "[ 0.38271649  0.30126031 -0.41983958]\n"
          ],
          "name": "stdout"
        }
      ]
    },
    {
      "cell_type": "markdown",
      "metadata": {
        "id": "3nic2w4WjWIu",
        "colab_type": "text"
      },
      "source": [
        "Предсказываем значения"
      ]
    },
    {
      "cell_type": "code",
      "metadata": {
        "id": "TjMhHELUjVSi",
        "colab_type": "code",
        "colab": {
          "base_uri": "https://localhost:8080/",
          "height": 85
        },
        "outputId": "93e7ef2e-3a5f-4a03-c11b-cfaf4761bb82"
      },
      "source": [
        "prediction = model.predict(X)\n",
        "# Вывод результата тренировки\n",
        "for x, y in zip(X, prediction):\n",
        "    print(\"{} -> {}\".format(x, y))"
      ],
      "execution_count": null,
      "outputs": [
        {
          "output_type": "stream",
          "text": [
            "[0 0] -> 0\n",
            "[1 0] -> 0\n",
            "[0 1] -> 0\n",
            "[1 1] -> 1\n"
          ],
          "name": "stdout"
        }
      ]
    },
    {
      "cell_type": "markdown",
      "metadata": {
        "id": "JngRQdTHKXmx",
        "colab_type": "text"
      },
      "source": [
        "#Самостоятельное задание 2.\n",
        "##Написать алгоритм для обучения перцептрона возводить в квадрат.\n",
        "*то есть на вход будет подаваться число S и на выходе должно получиться Sˆ2."
      ]
    },
    {
      "cell_type": "markdown",
      "metadata": {
        "colab_type": "text",
        "id": "GanQ4unwrB_k"
      },
      "source": [
        "Импортируем библиотеку numpy"
      ]
    },
    {
      "cell_type": "code",
      "metadata": {
        "colab_type": "code",
        "id": "7jc-uyHwrB_n",
        "colab": {}
      },
      "source": [
        "import numpy as np\n",
        "import matplotlib.pyplot as plt"
      ],
      "execution_count": 14,
      "outputs": []
    },
    {
      "cell_type": "markdown",
      "metadata": {
        "colab_type": "text",
        "id": "rB3rh2q0rB_v"
      },
      "source": [
        "Реализация многослойного перцептрона с помощью ООП (здесь будем использовать один скрытый слой)"
      ]
    },
    {
      "cell_type": "code",
      "metadata": {
        "colab_type": "code",
        "id": "Y2ha68rkrB_x",
        "colab": {}
      },
      "source": [
        "# Однослойный перцептрон - всего лишь линейный классификатор\n",
        "# Двухслойный перцептрон может аппроксимировать многие непрерывные функции\n",
        "class MultiPerceptron():\n",
        "    # Вариант с одним выходным нейроном\n",
        "    def __init__(self, n_entries, n_neurons=3):\n",
        "        # Задаем начальные веса (должен быть многомерный массив, для каждого слоя свои веса)\n",
        "        self.weights = [\n",
        "                        np.random.rand(n_neurons, n_entries + 1),  # набор весов первого слоя с двумя нейронами\n",
        "                        np.random.rand(1, n_neurons),  # набор весов выходного слоя с одним нейроном\n",
        "        ]\n",
        "        print('Kernel:')\n",
        "        for weights in self.weights:\n",
        "            print()\n",
        "            print('    ', end='')\n",
        "            for w in weights:\n",
        "                print(w, end=' ')\n",
        "            print()\n",
        "        self.era_id = 0\n",
        "\n",
        "    # Изменяем веса\n",
        "    def fit(self, data, expected_values, learning_rate, print_info=True):\n",
        "        for x, expected in zip(data, expected_values):\n",
        "            # История входов нейронов\n",
        "            z = []\n",
        "            # История выходов нейронов (для производной)\n",
        "            y = []\n",
        "            # Проходим по скрытым слоям\n",
        "            for k in range(len(self.weights) - 1):\n",
        "                # Выход слоя\n",
        "                y.append([])\n",
        "                # Добавляем смещение\n",
        "                x = np.append(x, 1)\n",
        "                # Добавляем вход в историю\n",
        "                z.append(x)\n",
        "                # Проходим по нейронам скрытого слоя k\n",
        "                for i in range(len(self.weights[k])):\n",
        "                    # Выход нейрона i\n",
        "                    y[k].append(max((0, np.dot(x, self.weights[k][i]))))\n",
        "                # Присваиваем x выход слоя, чтобы с этими данными мог работать следующий слой\n",
        "                x = np.array(y[k])\n",
        "            # Находим разность (ошибка = div ** 2, но она не нужна в обновлении весов)\n",
        "            # Добавляем вход в историю\n",
        "            z.append(x)\n",
        "            y.append([np.dot(x, self.weights[-1][0])])\n",
        "            div = expected - y[-1][-1]\n",
        "            # Изменяем веса с помощью обратного прохода\n",
        "            # Проходим по нейронам в выходном слое (один нейрон в нашем случае)\n",
        "            delta = [[]]\n",
        "            # Проходим по весам нейрона 0\n",
        "            for j in range(len(self.weights[-1][0])):\n",
        "                delta[0].append(-2 * div)\n",
        "                self.weights[-1][0][j] -= learning_rate * delta[0][j] * z[-1][0]\n",
        "            # Чтобы пересчитать веса предыдущего нейрона на основе весов следующих нейронов\n",
        "            delta_next = np.array(delta)\n",
        "            # Проходим по скрытым слоям в обратном направлении\n",
        "            for k in range(len(self.weights) - 2, -1, -1):\n",
        "                delta = []\n",
        "                # Проходим по нейронам в скрытом слое k\n",
        "                for i in range(len(self.weights[k])):\n",
        "                    if y[k][i] != 0:\n",
        "                        delta.append([])\n",
        "                        # Проходим по весам нейрона i\n",
        "                        for j in range(len(self.weights[k][i])):\n",
        "                            # Обновляем вес j нерона i скрытого слоя k\n",
        "                                delta[i].append(2 * np.sum(delta_next * self.weights[k + 1]))\n",
        "                                self.weights[k][i][j] -= learning_rate * delta[i][j] * z[k][j]\n",
        "                    else:\n",
        "                        delta.append(np.zeros(len(self.weights[k][i])))\n",
        "                    # Чтобы пересчитать веса предыдущего нейрона на основе весов следующих нейронов\n",
        "                delta_next = np.array(delta)\n",
        "        self.era_id += 1\n",
        "        if print_info:\n",
        "            print('Kernel:')\n",
        "            for weights in self.weights:\n",
        "                print('    ', end='')\n",
        "                for w in weights:\n",
        "                    print(w, end=' ')\n",
        "                print()\n",
        "            print(f'Era: {self.era_id}')\n",
        "\n",
        "    # Функция предсказания\n",
        "    def predict(self, data):\n",
        "        res = []\n",
        "        for x in data:\n",
        "            # Проходим по скрытым слоям\n",
        "            for k in range(len(self.weights) - 1):\n",
        "                # Выход слоя\n",
        "                y = []\n",
        "                # Добавляем смещение\n",
        "                x = np.append(x, 1)\n",
        "                # Проходим по нейронам скрытого слоя\n",
        "                for i in range(len(self.weights[k])):\n",
        "                    # Выход нейрона i\n",
        "                    y.append(max((0, np.dot(x, self.weights[k][i]))))\n",
        "                # Присваиваем x выход слоя, чтобы с этими данными мог работать следующий слой\n",
        "                x = np.array(y)\n",
        "            res.append(np.dot(x, self.weights[-1][-1]))\n",
        "\n",
        "        return np.array(res)"
      ],
      "execution_count": 51,
      "outputs": []
    },
    {
      "cell_type": "markdown",
      "metadata": {
        "id": "-mlVjzLbBl0a",
        "colab_type": "text"
      },
      "source": [
        "Обучающая выборка"
      ]
    },
    {
      "cell_type": "code",
      "metadata": {
        "id": "-uLAYqiQ_4LU",
        "colab_type": "code",
        "colab": {
          "base_uri": "https://localhost:8080/",
          "height": 34
        },
        "outputId": "34347c83-4e2f-4bd6-f26e-2c4d0d1273cc"
      },
      "source": [
        "N = 10\n",
        "training_data = np.arange(-N, N, 0.02)\n",
        "training_values = np.square(training_data)\n",
        "print(training_data.shape)"
      ],
      "execution_count": 61,
      "outputs": [
        {
          "output_type": "stream",
          "text": [
            "(1000,)\n"
          ],
          "name": "stdout"
        }
      ]
    },
    {
      "cell_type": "markdown",
      "metadata": {
        "id": "Xquz4MnumaEn",
        "colab_type": "text"
      },
      "source": [
        "### Создаем модели"
      ]
    },
    {
      "cell_type": "markdown",
      "metadata": {
        "id": "nIgYhXeu4VY9",
        "colab_type": "text"
      },
      "source": [
        "С тремя нейронами"
      ]
    },
    {
      "cell_type": "code",
      "metadata": {
        "id": "1MaOeBjpmZfz",
        "colab_type": "code",
        "colab": {
          "base_uri": "https://localhost:8080/",
          "height": 102
        },
        "outputId": "5b9c9922-4691-44b4-b358-cfb1a7b6415c"
      },
      "source": [
        "model = MultiPerceptron(n_entries=1, n_neurons=3)"
      ],
      "execution_count": 75,
      "outputs": [
        {
          "output_type": "stream",
          "text": [
            "Kernel:\n",
            "\n",
            "    [0.19840016 0.35884261] [0.04863718 0.19245083] [0.05542734 0.47524689] \n",
            "\n",
            "    [0.69349579 0.33423187 0.18297246] \n"
          ],
          "name": "stdout"
        }
      ]
    },
    {
      "cell_type": "markdown",
      "metadata": {
        "id": "yIGZ5y2SCS2g",
        "colab_type": "text"
      },
      "source": [
        "Обучение модели"
      ]
    },
    {
      "cell_type": "code",
      "metadata": {
        "id": "FM2BGLm0CUQf",
        "colab_type": "code",
        "colab": {
          "base_uri": "https://localhost:8080/",
          "height": 428
        },
        "outputId": "15df77ee-06a3-4531-f973-15c1973cbb46"
      },
      "source": [
        "fig = plt.figure(figsize=(15, 7))\n",
        "ax = fig.add_subplot(111)\n",
        "for i in range(1000):\n",
        "    model.fit(training_data, training_values, learning_rate=1e-5, print_info=False)\n",
        "\n",
        "true_values = np.square(training_data)\n",
        "pred_values = model.predict(training_data)\n",
        "\n",
        "ax.plot(training_data, true_values, c='green')\n",
        "ax.plot(training_data, pred_values, c='blue', linestyle='--')\n",
        "fig.show()"
      ],
      "execution_count": 81,
      "outputs": [
        {
          "output_type": "display_data",
          "data": {
            "image/png": "[encoded data removed]",
            "text/plain": [
              "<Figure size 1080x504 with 1 Axes>"
            ]
          },
          "metadata": {
            "tags": [],
            "needs_background": "light"
          }
        }
      ]
    },
    {
      "cell_type": "markdown",
      "metadata": {
        "colab_type": "text",
        "id": "wF54v7Ez43hq"
      },
      "source": [
        "С семью нейронами"
      ]
    },
    {
      "cell_type": "code",
      "metadata": {
        "colab_type": "code",
        "id": "6NuCLxK443hs",
        "colab": {}
      },
      "source": [
        "model = MultiPerceptron(n_entries=1, n_neurons=7)"
      ],
      "execution_count": null,
      "outputs": []
    },
    {
      "cell_type": "markdown",
      "metadata": {
        "colab_type": "text",
        "id": "iQ45FpPM43hy"
      },
      "source": [
        "Обучение модели"
      ]
    },
    {
      "cell_type": "code",
      "metadata": {
        "colab_type": "code",
        "id": "g99NlEWN43hz",
        "colab": {
          "base_uri": "https://localhost:8080/",
          "height": 428
        },
        "outputId": "6d6cfc0d-356c-48ad-89bf-44672ebb901e"
      },
      "source": [
        "fig = plt.figure(figsize=(15, 7))\n",
        "ax = fig.add_subplot(111)\n",
        "for i in range(1000):\n",
        "    model.fit(training_data, training_values, learning_rate=1e-5, print_info=False)\n",
        "\n",
        "true_values = np.square(training_data)\n",
        "pred_values = model.predict(training_data)\n",
        "\n",
        "ax.plot(training_data, true_values, c='green')\n",
        "ax.plot(training_data, pred_values, c='blue', linestyle='--')\n",
        "fig.show()"
      ],
      "execution_count": 90,
      "outputs": [
        {
          "output_type": "display_data",
          "data": {
            "image/png": "[encoded data removed]",
            "text/plain": [
              "<Figure size 1080x504 with 1 Axes>"
            ]
          },
          "metadata": {
            "tags": [],
            "needs_background": "light"
          }
        }
      ]
    },
    {
      "cell_type": "markdown",
      "metadata": {
        "colab_type": "text",
        "id": "hFVzhlH76fg7"
      },
      "source": [
        "С пятнадцатью нейронами"
      ]
    },
    {
      "cell_type": "code",
      "metadata": {
        "colab_type": "code",
        "id": "rimVmofY6fg9",
        "colab": {
          "base_uri": "https://localhost:8080/",
          "height": 156
        },
        "outputId": "991a095e-bec7-4af5-d7e4-0274eb1a2051"
      },
      "source": [
        "model = MultiPerceptron(n_entries=1, n_neurons=15)"
      ],
      "execution_count": 91,
      "outputs": [
        {
          "output_type": "stream",
          "text": [
            "Kernel:\n",
            "\n",
            "    [0.31469415 0.34303586] [0.10295956 0.37299112] [0.87243173 0.59256951] [0.32883968 0.17846296] [0.92924501 0.75312764] [0.99714574 0.72316145] [0.18766929 0.69639381] [0.24147406 0.08250535] [0.93315091 0.68479283] [0.66509    0.03978515] [0.19204236 0.3022546 ] [0.45585282 0.42500976] [0.88067586 0.32077767] [0.88553424 0.2101455 ] [0.65107235 0.51984446] \n",
            "\n",
            "    [0.61452422 0.62894524 0.91456191 0.68471108 0.8436648  0.08060425\n",
            " 0.77180799 0.16754063 0.08472304 0.60092294 0.5295259  0.64148998\n",
            " 0.82711726 0.20520636 0.08087061] \n"
          ],
          "name": "stdout"
        }
      ]
    },
    {
      "cell_type": "markdown",
      "metadata": {
        "colab_type": "text",
        "id": "n49aWmf76fhE"
      },
      "source": [
        "Обучение модели"
      ]
    },
    {
      "cell_type": "code",
      "metadata": {
        "colab_type": "code",
        "id": "GEDupH6b6fhG",
        "colab": {
          "base_uri": "https://localhost:8080/",
          "height": 428
        },
        "outputId": "ec46b922-bd8c-4c30-885f-fb8fab2425e4"
      },
      "source": [
        "fig = plt.figure(figsize=(15, 7))\n",
        "ax = fig.add_subplot(111)\n",
        "for i in range(1000):\n",
        "    model.fit(training_data, training_values, learning_rate=1e-5, print_info=False)\n",
        "\n",
        "true_values = np.square(training_data)\n",
        "pred_values = model.predict(training_data)\n",
        "\n",
        "ax.plot(training_data, true_values, c='green')\n",
        "ax.plot(training_data, pred_values, c='blue', linestyle='--')\n",
        "fig.show()"
      ],
      "execution_count": 93,
      "outputs": [
        {
          "output_type": "display_data",
          "data": {
            "image/png": "[encoded data removed]",
            "text/plain": [
              "<Figure size 1080x504 with 1 Axes>"
            ]
          },
          "metadata": {
            "tags": [],
            "needs_background": "light"
          }
        }
      ]
    }
  ]
}